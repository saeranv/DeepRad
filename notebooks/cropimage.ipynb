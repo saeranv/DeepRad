{
 "metadata": {
  "language_info": {
   "codemirror_mode": {
    "name": "ipython",
    "version": 3
   },
   "file_extension": ".py",
   "mimetype": "text/x-python",
   "name": "python",
   "nbconvert_exporter": "python",
   "pygments_lexer": "ipython3",
   "version": "3.6.5"
  },
  "orig_nbformat": 2,
  "kernelspec": {
   "name": "python365jvsc74a57bd033390efdf7035c6c9f938a3dd309367b7495a88dc9ad10169093ca29929ad304",
   "display_name": "Python 3.6.5 64-bit ('dl_floorplan3': conda)"
  },
  "metadata": {
   "interpreter": {
    "hash": "2612f879054f6935f08d56a19532a7ca426974ce7e7daf744d4beb4850c85249"
   }
  }
 },
 "nbformat": 4,
 "nbformat_minor": 2,
 "cells": [
  {
   "cell_type": "code",
   "execution_count": 1,
   "metadata": {},
   "outputs": [],
   "source": [
    "%load_ext autoreload\n",
    "%autoreload 2\n",
    "%config Completer.use_jedi = False\n",
    "\n",
    "import os \n",
    "import sys \n",
    "\n",
    "# TODO: remove '..' if run from root folder\n",
    "home = os.path.abspath(os.path.join(os.getcwd(), '..'))\n",
    "pths = [home]\n",
    "\n",
    "for pth in pths: \n",
    "    if pth not in sys.path: sys.path.insert(0, pth)\n",
    "\n",
    "import matplotlib.pyplot as plt \n",
    "import numpy as np \n",
    "from pprint import pprint as pp \n",
    "# Tab after '.' to get all methods \n",
    "# Tab Shift after () to get documentation.\n",
    "# To read excel data:\n",
    "# pd.read_excel('afn_infil_data.xlsx')"
   ]
  },
  {
   "cell_type": "code",
   "execution_count": 7,
   "metadata": {},
   "outputs": [],
   "source": [
    "import deeprad.image2vec as i2v\n",
    "from deeprad.make_traintest import crop_orients\n",
    "from deeprad import utils \n",
    "to_poly_np, to_poly_sh = i2v.to_poly_np, i2v.to_poly_sh\n",
    "from shapely import affinity\n",
    "import shapely.geometry as geom\n",
    "\n",
    "from rtree import index\n",
    "from sklearn.mixture import GaussianMixture\n",
    "from copy import copy\n",
    "import cv2 \n",
    "\n",
    "figsize_default = np.array((5, 5))"
   ]
  },
  {
   "cell_type": "code",
   "execution_count": 8,
   "metadata": {},
   "outputs": [],
   "source": [
    "# RADCMAP = plt.get_cmap('RdYlBu_r')\n",
    "# ctmpf = os.path.join(os.getcwd(), 'img_0.jpg')\n",
    "# img = utils.load_img_gray(ctmpf)\n",
    "\n",
    "# # TODO: add a mask here\n",
    "# img = np.where(img < (255 - 1e-10), img, np.nan)  \n",
    "# plt.imshow(img, cmap=rad_cmap, vmin=0, vmax=255)"
   ]
  },
  {
   "cell_type": "code",
   "execution_count": 17,
   "metadata": {},
   "outputs": [
    {
     "output_type": "display_data",
     "data": {
      "text/plain": "<Figure size 432x288 with 1 Axes>",
      "image/svg+xml": "<?xml version=\"1.0\" encoding=\"utf-8\" standalone=\"no\"?>\n<!DOCTYPE svg PUBLIC \"-//W3C//DTD SVG 1.1//EN\"\n  \"http://www.w3.org/Graphics/SVG/1.1/DTD/svg11.dtd\">\n<!-- Created with matplotlib (https://matplotlib.org/) -->\n<svg height=\"63.077805pt\" version=\"1.1\" viewBox=\"0 0 378.7875 63.077805\" width=\"378.7875pt\" xmlns=\"http://www.w3.org/2000/svg\" xmlns:xlink=\"http://www.w3.org/1999/xlink\">\n <defs>\n  <style type=\"text/css\">\n*{stroke-linecap:butt;stroke-linejoin:round;}\n  </style>\n </defs>\n <g id=\"figure_1\">\n  <g id=\"patch_1\">\n   <path d=\"M 0 63.077805 \nL 378.7875 63.077805 \nL 378.7875 0 \nL 0 0 \nz\n\" style=\"fill:none;\"/>\n  </g>\n  <g id=\"axes_1\">\n   <g id=\"patch_2\">\n    <path d=\"M 33.2875 39.19968 \nL 368.0875 39.19968 \nL 368.0875 10.87045 \nL 33.2875 10.87045 \nz\n\" style=\"fill:#ffffff;\"/>\n   </g>\n   <g clip-path=\"url(#p14b064e8cf)\">\n    <image height=\"29\" id=\"imageeb83b1e753\" transform=\"scale(1 -1)translate(0 -29)\" width=\"335\" x=\"33.2875\" xlink:href=\"data:image/png;base64,\niVBORw0KGgoAAAANSUhEUgAAAU8AAAAdCAYAAAAq/O66AAAABHNCSVQICAgIfAhkiAAACZRJREFUeJztXW1uEz0QHtubhAoQLR9FAqlwE7gEP0iPByXXgLMUSisKVKUItdm13x/VbMezY6+T7AIvmkeKIF57PPbGz45nxlsTQgigUCgUipVg/7QCCoVC8X+EkucIaJpGLEcjf1VjPyVPkl1SXtJ/Xddiufe+t+2mQP1K+hpq4xRCGHRs68gaov/UfRtKvuIG1Z9W4F/E9vY2GGPa7yGEaJHj9xACTKfTIpnW2uyP/+zsDB4+fNgpd85FxBBCiHTLIYQAX79+jcqm0yncu3evWEZKrnMuOR7vPTjn4OTkBPb29pJy+uZkFXz8+DGSFUKAvb29tcdpjIHj42Ow1oIxpv1cXFzA27dvwTnXaVN6b4wxUNd1R0au/NWrV2Ct2kpDQmdzBOACoAuBLiAspxbWxcWFKIfW4YuLEjKVaYwBay00TQNN08CXL1/aetbatt33799F/ZHcJDRN01ngfdaf9x7Oz88jXb33YIyBb9++deqj7rjYcewUR0dHHeI0xsCnT5+yulCdKJlw+XTu8XpqTlL18T7w+41ymqaJ2tB7g9fprsNaC/P5vJWBcrBcmo/5fN7qvskDT9GFkueICCGIW25rbbSocBFzgkULjLZD0uELEiAmhBACVFV3Y0HLJasNScBaK7aX5OVIBeB6oS+Xy055zh1BiY0SBfa56Xa9xGql47fWimNIAe+d974lf64zH1dd1zCZTMT+AQCWy2U0L/iAwXLnXNSe/sYUw0O37SND2ipJC0myrlLWDJbxhUGJM4ccaSFxLpfL4i1kHwml9OHjy7XnVrbU55h+S5yXXF06X/RBh5Dmk/bhnIvuDe9TcnVQFwi/xi1bxbBQy/MPoZQ4FArF3wklzxFBo+v0473vWH98y47kKlmjdFvPr2O0NWWdUes0ZxWXWJRYv89C9d5H20mqS8o1QGVyq8oYI8rz3he5Grj8FGifkq+Xy5Ou97Wh4D5PgDh6zu8X3itanvKJK4aHkufIoNFWBH6nvs47d+50SFZaTJRUqQxEVVWd9vfv3+/oZYyBnZ2dpM703z70LVIcn4SUDpS40EdM+3v8+HGnjbUWHj16VKJyUfrXrVu32v+XkK0U/MGtu+RS4Q+nlE+Tfl8sFlF73OovFotOfWstHBwc9OqtWA9KniOALgoe4AGIfZdSFF2qJ8nGa5LsFOq6zpId1avE8iz1i3Lyw3GnfJe0XkqmFKgqtTz5g4HLapoGLi8vo/qrWHJXV1dthJvuNvB7VVWducO0Mvqd6oVt67qGpmla4sRy51xkqfLfguZ5DgslzxFAU5VSAR5axi1OyQLFNtKnaZrkwnDOdYIOJRZljhSH2A5K224KtKBzkfwS67EUXNaqZMlBMwzQcsaxeO+TkfsSgqOyKFIPG8z/1Mj7sFDyHAE0BYn6OaXFSJOncZHRVCZOvvw6pichISKR0m3j6elp2x9GYEMI8OPHj44+9HqKZPlDoI+MvfdwdnYWtcctJi3netAxcFI4OTkR+/n8+XNWF14/B2619T1Q+P2lKWE8qo73lZJ20zSR5cx3LE3TwHw+72zlsRwAOtcwz1OydBWbQclzRNAtO/1I+Xc5CxRBSZgnXKMMtOgweMK3bkhIxhi4urrq6IyWKfefpVBVVS8JoTwJJdYj93nmdM8dT6SQTuJQhFB++gvrU5RkU3ALkrscvPfRePg8W2thNpu15TxgpieKxoXmeY6M0hzH1HYrl9eZ6otaodIiLpFTQorYx7pItS0dZ2m5BHywpMCT4vu28aloew5cHt92c18xd3XggxTLeZ6oWprjQh9NCsVvgpLZvwUlzxGRslakAI+0hURHf64el48ng3IRfLRmpG0pPZ5Zmp7TZ/GlXAB8O07LJauM/j91WmdIgpJesJEDt6T5CSXeXsqU4OPuO/rK9VOC/n1Q8hwRmE4CcLMwuB8U4PpHf/v27U57Y0zkw+KBB2nxYboLlf/gwYNIJsq4e/dup09cvJeXl0Vb8qqqen1r1lox19R7nyyXEsKpvKdPn4r9SOUp5NwS/AFXQkp8W01Tj1Jn6flvgZIlzj9ed85FeZu0zcHBQZT2hg/Bd+/e9eqtWA8m6DGEwVFVVdLfKNUtCXLgQulLmk/VWwVU7z5/ackYJfkoJ0UoeA3nMqfjupD8zvwwAwX3KUo68xQ0qQ+0uDfNu8SHa8kLS/DBrUGk4aABoxGwtbXVWniTyaSTuIyLCa/n3m2JW2i0OvnbhTDtBwBaK45uvTnBSDKkPnOpVdRaxHH2pfFwXVLkAhAfIX3y5EmrN134dByc6Eu3rtRyPzw87LTb3d2F2WwW6ZQjPEquzjk4Pj5u9aFZFm/evIHJZNKOCWU2TQOTySSyVvkr6ag1SjMnaIoajgN3Pvj7UuIcFjqbIwEj1picTHM0Obz38PPnz045tSoBrhckzwPkW3V+BttaG73QGBdSCCF6xyaVie2QOPi4uCXVZwF676P3dlLCld7niW1SmQbeezg6OopcEKhb6fs8uX+Qk3gIAba2tqI+cwghROlTlET5EV0kTh5dR3LEOcZTSlSH/f39iCxpOX9np3MO9vf3i3JxFatDLc8RkNqSUhLEa9RK4ODECND9MwvUbwoAreXCiZfKxLpSriS9njsaSf/fZ+lxyxr7SB0BlXyNUq6q9Bq40q18bl6wP65bH4H2BXfojgP7oOCpaZi3KtUrDSRxglYMB30cjQCNeCokrJJ0r/j7oeQ5ImgQIXViiNfl4FZDLqCBZdSPxq1QbpFy3WgEt/QPz/V9+o55puaH9sHP5+fklaDE1UAt8xLrmlvBHJw8aVBRGju+ZYle5/5qfNELjeyXpI8pNodu20cCDRBIb/hOtaFI5TNS0qHpUAA3eZ484k/bYNl0Ou3Ir+sarLW9xxcpcgEvlCnJwuOJJfmPqBfA9fxJVhw/G54D3pccsdPUI5znFCnRQA5Af7oVAHTmGfVHWbPZLPJh879pRPvCcjp3Q744RdGFpiqNgO3t7WhRSBFvdPr3vV0IkSJSvHZ+fi6+y5JHw0sj0qgf/+uZxhjY3d3dyI+GfricBVnXNZyensLz58+zcoYKhhweHnbu07Nnz9a24EII8OvXL7DWwmQyiaL6i8VCTMHqmxcEkizXLVUOAPD69eu1xqFIQ8lzBKBDv+/JT7dkm/aXShdKkea6gZUPHz7Ay5cvN9D2Rq+UDvxsfk6GpOM6eP/+Pbx48aL9vikp06wGitxDcJXcz9T8pX53aL2XWuaKfih5KhQKxRrQgJFCoVCsgf8AgdhMrsRpJ/kAAAAASUVORK5CYII=\" y=\"-10.19968\"/>\n   </g>\n   <g id=\"matplotlib.axis_1\">\n    <g id=\"xtick_1\">\n     <g id=\"line2d_1\">\n      <defs>\n       <path d=\"M 0 0 \nL 0 3.5 \n\" id=\"m0716491775\" style=\"stroke:#000000;stroke-width:0.8;\"/>\n      </defs>\n      <g>\n       <use style=\"stroke:#000000;stroke-width:0.8;\" x=\"33.416269\" xlink:href=\"#m0716491775\" y=\"39.19968\"/>\n      </g>\n     </g>\n     <g id=\"text_1\">\n      <!-- 0 -->\n      <defs>\n       <path d=\"M 31.78125 66.40625 \nQ 24.171875 66.40625 20.328125 58.90625 \nQ 16.5 51.421875 16.5 36.375 \nQ 16.5 21.390625 20.328125 13.890625 \nQ 24.171875 6.390625 31.78125 6.390625 \nQ 39.453125 6.390625 43.28125 13.890625 \nQ 47.125 21.390625 47.125 36.375 \nQ 47.125 51.421875 43.28125 58.90625 \nQ 39.453125 66.40625 31.78125 66.40625 \nz\nM 31.78125 74.21875 \nQ 44.046875 74.21875 50.515625 64.515625 \nQ 56.984375 54.828125 56.984375 36.375 \nQ 56.984375 17.96875 50.515625 8.265625 \nQ 44.046875 -1.421875 31.78125 -1.421875 \nQ 19.53125 -1.421875 13.0625 8.265625 \nQ 6.59375 17.96875 6.59375 36.375 \nQ 6.59375 54.828125 13.0625 64.515625 \nQ 19.53125 74.21875 31.78125 74.21875 \nz\n\" id=\"DejaVuSans-48\"/>\n      </defs>\n      <g transform=\"translate(30.235019 53.798118)scale(0.1 -0.1)\">\n       <use xlink:href=\"#DejaVuSans-48\"/>\n      </g>\n     </g>\n    </g>\n    <g id=\"xtick_2\">\n     <g id=\"line2d_2\">\n      <g>\n       <use style=\"stroke:#000000;stroke-width:0.8;\" x=\"84.923962\" xlink:href=\"#m0716491775\" y=\"39.19968\"/>\n      </g>\n     </g>\n     <g id=\"text_2\">\n      <!-- 200 -->\n      <defs>\n       <path d=\"M 19.1875 8.296875 \nL 53.609375 8.296875 \nL 53.609375 0 \nL 7.328125 0 \nL 7.328125 8.296875 \nQ 12.9375 14.109375 22.625 23.890625 \nQ 32.328125 33.6875 34.8125 36.53125 \nQ 39.546875 41.84375 41.421875 45.53125 \nQ 43.3125 49.21875 43.3125 52.78125 \nQ 43.3125 58.59375 39.234375 62.25 \nQ 35.15625 65.921875 28.609375 65.921875 \nQ 23.96875 65.921875 18.8125 64.3125 \nQ 13.671875 62.703125 7.8125 59.421875 \nL 7.8125 69.390625 \nQ 13.765625 71.78125 18.9375 73 \nQ 24.125 74.21875 28.421875 74.21875 \nQ 39.75 74.21875 46.484375 68.546875 \nQ 53.21875 62.890625 53.21875 53.421875 \nQ 53.21875 48.921875 51.53125 44.890625 \nQ 49.859375 40.875 45.40625 35.40625 \nQ 44.1875 33.984375 37.640625 27.21875 \nQ 31.109375 20.453125 19.1875 8.296875 \nz\n\" id=\"DejaVuSans-50\"/>\n      </defs>\n      <g transform=\"translate(75.380212 53.798118)scale(0.1 -0.1)\">\n       <use xlink:href=\"#DejaVuSans-50\"/>\n       <use x=\"63.623047\" xlink:href=\"#DejaVuSans-48\"/>\n       <use x=\"127.246094\" xlink:href=\"#DejaVuSans-48\"/>\n      </g>\n     </g>\n    </g>\n    <g id=\"xtick_3\">\n     <g id=\"line2d_3\">\n      <g>\n       <use style=\"stroke:#000000;stroke-width:0.8;\" x=\"136.431654\" xlink:href=\"#m0716491775\" y=\"39.19968\"/>\n      </g>\n     </g>\n     <g id=\"text_3\">\n      <!-- 400 -->\n      <defs>\n       <path d=\"M 37.796875 64.3125 \nL 12.890625 25.390625 \nL 37.796875 25.390625 \nz\nM 35.203125 72.90625 \nL 47.609375 72.90625 \nL 47.609375 25.390625 \nL 58.015625 25.390625 \nL 58.015625 17.1875 \nL 47.609375 17.1875 \nL 47.609375 0 \nL 37.796875 0 \nL 37.796875 17.1875 \nL 4.890625 17.1875 \nL 4.890625 26.703125 \nz\n\" id=\"DejaVuSans-52\"/>\n      </defs>\n      <g transform=\"translate(126.887904 53.798118)scale(0.1 -0.1)\">\n       <use xlink:href=\"#DejaVuSans-52\"/>\n       <use x=\"63.623047\" xlink:href=\"#DejaVuSans-48\"/>\n       <use x=\"127.246094\" xlink:href=\"#DejaVuSans-48\"/>\n      </g>\n     </g>\n    </g>\n    <g id=\"xtick_4\">\n     <g id=\"line2d_4\">\n      <g>\n       <use style=\"stroke:#000000;stroke-width:0.8;\" x=\"187.939346\" xlink:href=\"#m0716491775\" y=\"39.19968\"/>\n      </g>\n     </g>\n     <g id=\"text_4\">\n      <!-- 600 -->\n      <defs>\n       <path d=\"M 33.015625 40.375 \nQ 26.375 40.375 22.484375 35.828125 \nQ 18.609375 31.296875 18.609375 23.390625 \nQ 18.609375 15.53125 22.484375 10.953125 \nQ 26.375 6.390625 33.015625 6.390625 \nQ 39.65625 6.390625 43.53125 10.953125 \nQ 47.40625 15.53125 47.40625 23.390625 \nQ 47.40625 31.296875 43.53125 35.828125 \nQ 39.65625 40.375 33.015625 40.375 \nz\nM 52.59375 71.296875 \nL 52.59375 62.3125 \nQ 48.875 64.0625 45.09375 64.984375 \nQ 41.3125 65.921875 37.59375 65.921875 \nQ 27.828125 65.921875 22.671875 59.328125 \nQ 17.53125 52.734375 16.796875 39.40625 \nQ 19.671875 43.65625 24.015625 45.921875 \nQ 28.375 48.1875 33.59375 48.1875 \nQ 44.578125 48.1875 50.953125 41.515625 \nQ 57.328125 34.859375 57.328125 23.390625 \nQ 57.328125 12.15625 50.6875 5.359375 \nQ 44.046875 -1.421875 33.015625 -1.421875 \nQ 20.359375 -1.421875 13.671875 8.265625 \nQ 6.984375 17.96875 6.984375 36.375 \nQ 6.984375 53.65625 15.1875 63.9375 \nQ 23.390625 74.21875 37.203125 74.21875 \nQ 40.921875 74.21875 44.703125 73.484375 \nQ 48.484375 72.75 52.59375 71.296875 \nz\n\" id=\"DejaVuSans-54\"/>\n      </defs>\n      <g transform=\"translate(178.395596 53.798118)scale(0.1 -0.1)\">\n       <use xlink:href=\"#DejaVuSans-54\"/>\n       <use x=\"63.623047\" xlink:href=\"#DejaVuSans-48\"/>\n       <use x=\"127.246094\" xlink:href=\"#DejaVuSans-48\"/>\n      </g>\n     </g>\n    </g>\n    <g id=\"xtick_5\">\n     <g id=\"line2d_5\">\n      <g>\n       <use style=\"stroke:#000000;stroke-width:0.8;\" x=\"239.447038\" xlink:href=\"#m0716491775\" y=\"39.19968\"/>\n      </g>\n     </g>\n     <g id=\"text_5\">\n      <!-- 800 -->\n      <defs>\n       <path d=\"M 31.78125 34.625 \nQ 24.75 34.625 20.71875 30.859375 \nQ 16.703125 27.09375 16.703125 20.515625 \nQ 16.703125 13.921875 20.71875 10.15625 \nQ 24.75 6.390625 31.78125 6.390625 \nQ 38.8125 6.390625 42.859375 10.171875 \nQ 46.921875 13.96875 46.921875 20.515625 \nQ 46.921875 27.09375 42.890625 30.859375 \nQ 38.875 34.625 31.78125 34.625 \nz\nM 21.921875 38.8125 \nQ 15.578125 40.375 12.03125 44.71875 \nQ 8.5 49.078125 8.5 55.328125 \nQ 8.5 64.0625 14.71875 69.140625 \nQ 20.953125 74.21875 31.78125 74.21875 \nQ 42.671875 74.21875 48.875 69.140625 \nQ 55.078125 64.0625 55.078125 55.328125 \nQ 55.078125 49.078125 51.53125 44.71875 \nQ 48 40.375 41.703125 38.8125 \nQ 48.828125 37.15625 52.796875 32.3125 \nQ 56.78125 27.484375 56.78125 20.515625 \nQ 56.78125 9.90625 50.3125 4.234375 \nQ 43.84375 -1.421875 31.78125 -1.421875 \nQ 19.734375 -1.421875 13.25 4.234375 \nQ 6.78125 9.90625 6.78125 20.515625 \nQ 6.78125 27.484375 10.78125 32.3125 \nQ 14.796875 37.15625 21.921875 38.8125 \nz\nM 18.3125 54.390625 \nQ 18.3125 48.734375 21.84375 45.5625 \nQ 25.390625 42.390625 31.78125 42.390625 \nQ 38.140625 42.390625 41.71875 45.5625 \nQ 45.3125 48.734375 45.3125 54.390625 \nQ 45.3125 60.0625 41.71875 63.234375 \nQ 38.140625 66.40625 31.78125 66.40625 \nQ 25.390625 66.40625 21.84375 63.234375 \nQ 18.3125 60.0625 18.3125 54.390625 \nz\n\" id=\"DejaVuSans-56\"/>\n      </defs>\n      <g transform=\"translate(229.903288 53.798118)scale(0.1 -0.1)\">\n       <use xlink:href=\"#DejaVuSans-56\"/>\n       <use x=\"63.623047\" xlink:href=\"#DejaVuSans-48\"/>\n       <use x=\"127.246094\" xlink:href=\"#DejaVuSans-48\"/>\n      </g>\n     </g>\n    </g>\n    <g id=\"xtick_6\">\n     <g id=\"line2d_6\">\n      <g>\n       <use style=\"stroke:#000000;stroke-width:0.8;\" x=\"290.954731\" xlink:href=\"#m0716491775\" y=\"39.19968\"/>\n      </g>\n     </g>\n     <g id=\"text_6\">\n      <!-- 1000 -->\n      <defs>\n       <path d=\"M 12.40625 8.296875 \nL 28.515625 8.296875 \nL 28.515625 63.921875 \nL 10.984375 60.40625 \nL 10.984375 69.390625 \nL 28.421875 72.90625 \nL 38.28125 72.90625 \nL 38.28125 8.296875 \nL 54.390625 8.296875 \nL 54.390625 0 \nL 12.40625 0 \nz\n\" id=\"DejaVuSans-49\"/>\n      </defs>\n      <g transform=\"translate(278.229731 53.798118)scale(0.1 -0.1)\">\n       <use xlink:href=\"#DejaVuSans-49\"/>\n       <use x=\"63.623047\" xlink:href=\"#DejaVuSans-48\"/>\n       <use x=\"127.246094\" xlink:href=\"#DejaVuSans-48\"/>\n       <use x=\"190.869141\" xlink:href=\"#DejaVuSans-48\"/>\n      </g>\n     </g>\n    </g>\n    <g id=\"xtick_7\">\n     <g id=\"line2d_7\">\n      <g>\n       <use style=\"stroke:#000000;stroke-width:0.8;\" x=\"342.462423\" xlink:href=\"#m0716491775\" y=\"39.19968\"/>\n      </g>\n     </g>\n     <g id=\"text_7\">\n      <!-- 1200 -->\n      <g transform=\"translate(329.737423 53.798118)scale(0.1 -0.1)\">\n       <use xlink:href=\"#DejaVuSans-49\"/>\n       <use x=\"63.623047\" xlink:href=\"#DejaVuSans-50\"/>\n       <use x=\"127.246094\" xlink:href=\"#DejaVuSans-48\"/>\n       <use x=\"190.869141\" xlink:href=\"#DejaVuSans-48\"/>\n      </g>\n     </g>\n    </g>\n   </g>\n   <g id=\"matplotlib.axis_2\">\n    <g id=\"ytick_1\">\n     <g id=\"line2d_8\">\n      <defs>\n       <path d=\"M 0 0 \nL -3.5 0 \n\" id=\"m80a4a3c700\" style=\"stroke:#000000;stroke-width:0.8;\"/>\n      </defs>\n      <g>\n       <use style=\"stroke:#000000;stroke-width:0.8;\" x=\"33.2875\" xlink:href=\"#m80a4a3c700\" y=\"10.999219\"/>\n      </g>\n     </g>\n     <g id=\"text_8\">\n      <!-- 0 -->\n      <g transform=\"translate(19.925 14.798438)scale(0.1 -0.1)\">\n       <use xlink:href=\"#DejaVuSans-48\"/>\n      </g>\n     </g>\n    </g>\n    <g id=\"ytick_2\">\n     <g id=\"line2d_9\">\n      <g>\n       <use style=\"stroke:#000000;stroke-width:0.8;\" x=\"33.2875\" xlink:href=\"#m80a4a3c700\" y=\"36.753065\"/>\n      </g>\n     </g>\n     <g id=\"text_9\">\n      <!-- 100 -->\n      <g transform=\"translate(7.2 40.552284)scale(0.1 -0.1)\">\n       <use xlink:href=\"#DejaVuSans-49\"/>\n       <use x=\"63.623047\" xlink:href=\"#DejaVuSans-48\"/>\n       <use x=\"127.246094\" xlink:href=\"#DejaVuSans-48\"/>\n      </g>\n     </g>\n    </g>\n   </g>\n   <g id=\"patch_3\">\n    <path d=\"M 33.2875 39.19968 \nL 33.2875 10.87045 \n\" style=\"fill:none;stroke:#000000;stroke-linecap:square;stroke-linejoin:miter;stroke-width:0.8;\"/>\n   </g>\n   <g id=\"patch_4\">\n    <path d=\"M 368.0875 39.19968 \nL 368.0875 10.87045 \n\" style=\"fill:none;stroke:#000000;stroke-linecap:square;stroke-linejoin:miter;stroke-width:0.8;\"/>\n   </g>\n   <g id=\"patch_5\">\n    <path d=\"M 33.2875 39.19968 \nL 368.0875 39.19968 \n\" style=\"fill:none;stroke:#000000;stroke-linecap:square;stroke-linejoin:miter;stroke-width:0.8;\"/>\n   </g>\n   <g id=\"patch_6\">\n    <path d=\"M 33.2875 10.87045 \nL 368.0875 10.87045 \n\" style=\"fill:none;stroke:#000000;stroke-linecap:square;stroke-linejoin:miter;stroke-width:0.8;\"/>\n   </g>\n  </g>\n </g>\n <defs>\n  <clipPath id=\"p14b064e8cf\">\n   <rect height=\"28.329231\" width=\"334.8\" x=\"33.2875\" y=\"10.87045\"/>\n  </clipPath>\n </defs>\n</svg>\n",
      "image/png": "[encoded data removed]"
     },
     "metadata": {
      "needs_background": "light"
     }
    }
   ],
   "source": [
    "DEEPRAD_TRAINTEST_DIR = utils.DEEPRAD_TRAINTEST_DIR\n",
    "DEEPRAD_TRAINTEST_DIR = DEEPRAD_TRAINTEST_DIR.replace('/deeprad/', '/')\n",
    "\n",
    "cimg_fpath = os.path.join(DEEPRAD_TRAINTEST_DIR, 'out_data', '0_out_floorplan_1.jpg')\n",
    "_cimg = utils.load_img_gray(cimg_fpath)\n",
    "plt.imshow(_cimg, cmap='gray')\n",
    "\n",
    "mask_fpath = os.path.join(DEEPRAD_TRAINTEST_DIR, 'in_data',  '0_in_sol_floorplan_1.jpg')\n",
    "_mask = utils.load_img_gray(mask_fpath)\n"
   ]
  },
  {
   "cell_type": "code",
   "execution_count": 16,
   "metadata": {},
   "outputs": [
    {
     "output_type": "error",
     "ename": "AttributeError",
     "evalue": "'NoneType' object has no attribute 'copy'",
     "traceback": [
      "\u001b[0;31m---------------------------------------------------------------------------\u001b[0m",
      "\u001b[0;31mAttributeError\u001b[0m                            Traceback (most recent call last)",
      "\u001b[0;32m<ipython-input-16-0eda04c20f28>\u001b[0m in \u001b[0;36m<module>\u001b[0;34m\u001b[0m\n\u001b[1;32m      1\u001b[0m \u001b[0mcimg\u001b[0m \u001b[0;34m=\u001b[0m \u001b[0m_cimg\u001b[0m\u001b[0;34m.\u001b[0m\u001b[0mcopy\u001b[0m\u001b[0;34m(\u001b[0m\u001b[0;34m)\u001b[0m\u001b[0;34m\u001b[0m\u001b[0m\n\u001b[0;32m----> 2\u001b[0;31m \u001b[0mmask\u001b[0m \u001b[0;34m=\u001b[0m \u001b[0m_mask\u001b[0m\u001b[0;34m.\u001b[0m\u001b[0mcopy\u001b[0m\u001b[0;34m(\u001b[0m\u001b[0;34m)\u001b[0m\u001b[0;34m\u001b[0m\u001b[0m\n\u001b[0m\u001b[1;32m      3\u001b[0m \u001b[0;34m\u001b[0m\u001b[0m\n\u001b[1;32m      4\u001b[0m \u001b[0mRADCMAP\u001b[0m \u001b[0;34m=\u001b[0m \u001b[0mplt\u001b[0m\u001b[0;34m.\u001b[0m\u001b[0mget_cmap\u001b[0m\u001b[0;34m(\u001b[0m\u001b[0;34m'RdYlBu_r'\u001b[0m\u001b[0;34m)\u001b[0m\u001b[0;34m\u001b[0m\u001b[0m\n\u001b[1;32m      5\u001b[0m \u001b[0;34m\u001b[0m\u001b[0m\n",
      "\u001b[0;31mAttributeError\u001b[0m: 'NoneType' object has no attribute 'copy'"
     ]
    }
   ],
   "source": [
    "cimg = _cimg.copy()\n",
    "mask = _mask.copy()\n",
    "\n",
    "RADCMAP = plt.get_cmap('RdYlBu_r')\n",
    "\n",
    "plt.imshow(mask)\n"
   ]
  },
  {
   "cell_type": "code",
   "execution_count": 11,
   "metadata": {},
   "outputs": [
    {
     "output_type": "stream",
     "name": "stdout",
     "text": [
      "x, y dim (110, 1300)\n"
     ]
    },
    {
     "output_type": "error",
     "ename": "ValueError",
     "evalue": "could not broadcast input array from shape (60,652) into shape (110,652)",
     "traceback": [
      "\u001b[0;31m---------------------------------------------------------------------------\u001b[0m",
      "\u001b[0;31mValueError\u001b[0m                                Traceback (most recent call last)",
      "\u001b[0;32m<ipython-input-11-8b4e3be8a5ad>\u001b[0m in \u001b[0;36m<module>\u001b[0;34m\u001b[0m\n\u001b[1;32m      4\u001b[0m \u001b[0mRADCMAP\u001b[0m \u001b[0;34m=\u001b[0m \u001b[0mplt\u001b[0m\u001b[0;34m.\u001b[0m\u001b[0mget_cmap\u001b[0m\u001b[0;34m(\u001b[0m\u001b[0;34m'RdYlBu_r'\u001b[0m\u001b[0;34m)\u001b[0m\u001b[0;34m\u001b[0m\u001b[0m\n\u001b[1;32m      5\u001b[0m \u001b[0;34m\u001b[0m\u001b[0m\n\u001b[0;32m----> 6\u001b[0;31m \u001b[0mcropped\u001b[0m \u001b[0;34m=\u001b[0m \u001b[0mcrop_orients\u001b[0m\u001b[0;34m(\u001b[0m\u001b[0mimg\u001b[0m\u001b[0;34m,\u001b[0m \u001b[0mborder_width\u001b[0m\u001b[0;34m=\u001b[0m\u001b[0;36m2\u001b[0m\u001b[0;34m)\u001b[0m\u001b[0;34m\u001b[0m\u001b[0m\n\u001b[0m\u001b[1;32m      7\u001b[0m \u001b[0;34m\u001b[0m\u001b[0m\n\u001b[1;32m      8\u001b[0m \u001b[0mprint\u001b[0m\u001b[0;34m(\u001b[0m\u001b[0mcropped\u001b[0m\u001b[0;34m.\u001b[0m\u001b[0mshape\u001b[0m\u001b[0;34m)\u001b[0m\u001b[0;34m\u001b[0m\u001b[0m\n",
      "\u001b[0;32m/mnt/c/Users/Administrator/master/git/deeprad/deeprad/make_traintest.py\u001b[0m in \u001b[0;36mcrop_orients\u001b[0;34m(img, border_width, base_x)\u001b[0m\n\u001b[1;32m     66\u001b[0m     \u001b[0mmid_xdim\u001b[0m \u001b[0;34m=\u001b[0m \u001b[0mint\u001b[0m\u001b[0;34m(\u001b[0m\u001b[0mnp\u001b[0m\u001b[0;34m.\u001b[0m\u001b[0mfloor\u001b[0m\u001b[0;34m(\u001b[0m\u001b[0mcrop_img\u001b[0m\u001b[0;34m.\u001b[0m\u001b[0mshape\u001b[0m\u001b[0;34m[\u001b[0m\u001b[0;36m1\u001b[0m\u001b[0;34m]\u001b[0m \u001b[0;34m/\u001b[0m \u001b[0;36m2.0\u001b[0m\u001b[0;34m)\u001b[0m\u001b[0;34m)\u001b[0m\u001b[0;34m\u001b[0m\u001b[0m\n\u001b[1;32m     67\u001b[0m     \u001b[0mmove_idx\u001b[0m \u001b[0;34m=\u001b[0m \u001b[0mret_mid_xdim\u001b[0m \u001b[0;34m-\u001b[0m \u001b[0mmid_xdim\u001b[0m\u001b[0;34m\u001b[0m\u001b[0m\n\u001b[0;32m---> 68\u001b[0;31m     \u001b[0mret_img\u001b[0m\u001b[0;34m[\u001b[0m\u001b[0;34m:\u001b[0m\u001b[0;34m,\u001b[0m \u001b[0mmove_idx\u001b[0m\u001b[0;34m:\u001b[0m \u001b[0mmove_idx\u001b[0m \u001b[0;34m+\u001b[0m \u001b[0mcrop_img\u001b[0m\u001b[0;34m.\u001b[0m\u001b[0mshape\u001b[0m\u001b[0;34m[\u001b[0m\u001b[0;36m1\u001b[0m\u001b[0;34m]\u001b[0m\u001b[0;34m]\u001b[0m \u001b[0;34m=\u001b[0m \u001b[0mcrop_img\u001b[0m\u001b[0;34m\u001b[0m\u001b[0m\n\u001b[0m\u001b[1;32m     69\u001b[0m \u001b[0;34m\u001b[0m\u001b[0m\n\u001b[1;32m     70\u001b[0m     \u001b[0;32mreturn\u001b[0m \u001b[0mret_img\u001b[0m\u001b[0;34m\u001b[0m\u001b[0m\n",
      "\u001b[0;31mValueError\u001b[0m: could not broadcast input array from shape (60,652) into shape (110,652)"
     ]
    }
   ],
   "source": [
    "print('x, y dim', _img.shape)\n",
    "\n",
    "img = _img.copy()\n",
    "RADCMAP = plt.get_cmap('RdYlBu_r')\n",
    "\n",
    "cropped = crop_orients(img, border_width=2)\n",
    "\n",
    "print(cropped.shape)\n",
    "_, a = plt.subplots(figsize=(24, 12))\n",
    "a.imshow(cropped, cmap=RADCMAP)\n",
    "\n",
    "\n"
   ]
  },
  {
   "cell_type": "code",
   "execution_count": null,
   "metadata": {},
   "outputs": [],
   "source": []
  }
 ]
}
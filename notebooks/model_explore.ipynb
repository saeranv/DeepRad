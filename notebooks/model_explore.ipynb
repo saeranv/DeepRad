{
 "metadata": {
  "language_info": {
   "codemirror_mode": {
    "name": "ipython",
    "version": 3
   },
   "file_extension": ".py",
   "mimetype": "text/x-python",
   "name": "python",
   "nbconvert_exporter": "python",
   "pygments_lexer": "ipython3",
   "version": "3.9.2"
  },
  "orig_nbformat": 2,
  "kernelspec": {
   "name": "python392jvsc74a57bd062cfbefde3460959c4eddda3e28ff7e666a58a9f2ea7341e4434581c548a266d",
   "display_name": "Python 3.9.2 64-bit ('deeprad_v1': conda)"
  }
 },
 "nbformat": 4,
 "nbformat_minor": 2,
 "cells": [
  {
   "cell_type": "code",
   "execution_count": 1,
   "metadata": {},
   "outputs": [
    {
     "output_type": "stream",
     "name": "stdout",
     "text": [
      "You are using device: cpu\n"
     ]
    }
   ],
   "source": [
    "%load_ext autoreload\n",
    "%autoreload 2\n",
    "\n",
    "import sys\n",
    "import os\n",
    "import glob\n",
    "import time\n",
    "\n",
    "# torch\n",
    "import torch\n",
    "import gc\n",
    "import torch.nn as nn\n",
    "import torch.nn.functional as F\n",
    "import torch.optim as optim\n",
    "from torchvision import datasets, transforms\n",
    "from torch.utils.data import Dataset, DataLoader\n",
    "\n",
    "gc.collect()\n",
    "torch.cuda.empty_cache()\n",
    "\n",
    "# raytune\n",
    "# from ray import tune\n",
    "# from ray.tune import CLIReporter\n",
    "# from ray.tune.schedulers import ASHAScheduler\n",
    "\n",
    "# sci py stuff\n",
    "import numpy as np\n",
    "import matplotlib.pyplot as plt\n",
    "\n",
    "# set path\n",
    "deeprad_dir = os.path.abspath(os.path.join(os.getcwd(), '..'))\n",
    "\n",
    "if deeprad_dir not in sys.path:\n",
    "  sys.path.insert(0, deeprad_dir)\n",
    "\n",
    "\n",
    "# Import deeprad models\n",
    "from deeprad.model import Autoencoder, CustomDataSet\n",
    "from deeprad import utils\n",
    "import deeprad.traintest_utils as traintest_utils\n",
    "fd, pp = utils.fd, utils.pp\n",
    "\n",
    "# Set seeds/device\n",
    "np.random.seed(2)  # TODO: confirm right location?\n",
    "device = torch.device(\"cuda:0\") if torch.cuda.is_available() else 'cpu'\n",
    "print(\"You are using device: %s\" % device)\n",
    "\n",
    "# Data folders\n",
    "TARGET_FOLDER_PATH = os.path.join(deeprad_dir, \"data/traintest/out_data\")\n",
    "CHANNEL_FOLDER_PATH = os.path.join(deeprad_dir, \"data/traintest/in_data\")\n",
    "assert os.path.isdir(TARGET_FOLDER_PATH) and os.path.isdir(CHANNEL_FOLDER_PATH)"
   ]
  },
  {
   "cell_type": "code",
   "execution_count": 3,
   "metadata": {},
   "outputs": [
    {
     "output_type": "execute_result",
     "data": {
      "text/plain": [
       "Autoencoder(\n",
       "  (encoder): Sequential(\n",
       "    (0): Conv2d(6, 24, kernel_size=(3, 3), stride=(2, 2), padding=(1, 1))\n",
       "    (1): LeakyReLU(negative_slope=0.01)\n",
       "    (2): Conv2d(24, 48, kernel_size=(3, 3), stride=(2, 2), padding=(1, 1))\n",
       "    (3): LeakyReLU(negative_slope=0.01)\n",
       "    (4): Conv2d(48, 96, kernel_size=(6, 6), stride=(1, 1))\n",
       "    (5): LeakyReLU(negative_slope=0.01)\n",
       "    (6): Conv2d(96, 192, kernel_size=(6, 6), stride=(1, 1))\n",
       "  )\n",
       "  (decoder): Sequential(\n",
       "    (0): ConvTranspose2d(192, 96, kernel_size=(6, 6), stride=(1, 1))\n",
       "    (1): LeakyReLU(negative_slope=0.01)\n",
       "    (2): ConvTranspose2d(96, 48, kernel_size=(6, 6), stride=(1, 1))\n",
       "    (3): LeakyReLU(negative_slope=0.01)\n",
       "    (4): ConvTranspose2d(48, 24, kernel_size=(3, 3), stride=(2, 2), padding=(1, 1), output_padding=(1, 1))\n",
       "    (5): LeakyReLU(negative_slope=0.01)\n",
       "    (6): ConvTranspose2d(24, 3, kernel_size=(3, 3), stride=(2, 2), padding=(1, 1), output_padding=(1, 1))\n",
       "    (7): Sigmoid()\n",
       "  )\n",
       ")"
      ]
     },
     "metadata": {},
     "execution_count": 3
    }
   ],
   "source": [
    "opt_fpath = os.path.join(\n",
    "    os.getcwd(), '..', 'models', 'model_20210506-050120', 'model_20210506-050120.pt')\n",
    "assert os.path.isfile(opt_fpath)\n",
    "\n",
    "model = torch.load(opt_fpath, map_location=torch.device('cpu'))\n",
    "model.eval()"
   ]
  },
  {
   "cell_type": "code",
   "execution_count": 12,
   "metadata": {},
   "outputs": [
    {
     "output_type": "stream",
     "name": "stderr",
     "text": [
      "<>:4: SyntaxWarning: \"is\" with a literal. Did you mean \"==\"?\n<>:4: SyntaxWarning: \"is\" with a literal. Did you mean \"==\"?\n<ipython-input-12-1a15fa810348>:4: SyntaxWarning: \"is\" with a literal. Did you mean \"==\"?\n  list(filter(lambda x: x is '1', ['1', '2', '1', 0]))\n"
     ]
    },
    {
     "output_type": "execute_result",
     "data": {
      "text/plain": [
       "['1', '1']"
      ]
     },
     "metadata": {},
     "execution_count": 12
    }
   ],
   "source": [
    "\n",
    "#model.encoder.requires_grad = False\n",
    "#optimizer = optim.SGD(filter(lambda p: p.requires_grad, net.parameters()), lr=0.1)\n",
    "\n",
    "#list(filter(lambda x: x is '1', ['1', '2', '1', 0]))\n"
   ]
  }
 ]
}